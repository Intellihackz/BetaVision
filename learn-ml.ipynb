{
 "cells": [
  {
   "cell_type": "code",
   "execution_count": 1,
   "id": "a132a355",
   "metadata": {
    "_cell_guid": "b1076dfc-b9ad-4769-8c92-a6c4dae69d19",
    "_uuid": "8f2839f25d086af736a60e9eeb907d3b93b6e0e5",
    "execution": {
     "iopub.execute_input": "2023-10-17T14:22:50.825014Z",
     "iopub.status.busy": "2023-10-17T14:22:50.824347Z",
     "iopub.status.idle": "2023-10-17T14:22:52.765469Z",
     "shell.execute_reply": "2023-10-17T14:22:52.764232Z"
    },
    "papermill": {
     "duration": 1.947505,
     "end_time": "2023-10-17T14:22:52.767717",
     "exception": false,
     "start_time": "2023-10-17T14:22:50.820212",
     "status": "completed"
    },
    "tags": []
   },
   "outputs": [],
   "source": [
    "import pandas as pd\n",
    "from sklearn.tree import DecisionTreeClassifier\n",
    "from sklearn import tree\n",
    "\n",
    "music_df = pd.read_csv('/kaggle/input/musics/music.csv')\n",
    "X = music_df.drop(columns=['genre'])\n",
    "y = music_df['genre']\n",
    "\n",
    "model = DecisionTreeClassifier()\n",
    "model.fit(X,y)\n",
    "\n",
    "tree.export_graphviz(model, out_file='music-recommender.dot', \n",
    "                     feature_names=['age', 'gender'],\n",
    "                     class_names=sorted(y.unique()),\n",
    "                     label='all',\n",
    "                     filled=True\n",
    "                    )"
   ]
  }
 ],
 "metadata": {
  "kernelspec": {
   "display_name": "Python 3",
   "language": "python",
   "name": "python3"
  },
  "language_info": {
   "codemirror_mode": {
    "name": "ipython",
    "version": 3
   },
   "file_extension": ".py",
   "mimetype": "text/x-python",
   "name": "python",
   "nbconvert_exporter": "python",
   "pygments_lexer": "ipython3",
   "version": "3.10.12"
  },
  "papermill": {
   "default_parameters": {},
   "duration": 5.653865,
   "end_time": "2023-10-17T14:22:53.389242",
   "environment_variables": {},
   "exception": null,
   "input_path": "__notebook__.ipynb",
   "output_path": "__notebook__.ipynb",
   "parameters": {},
   "start_time": "2023-10-17T14:22:47.735377",
   "version": "2.4.0"
  }
 },
 "nbformat": 4,
 "nbformat_minor": 5
}
